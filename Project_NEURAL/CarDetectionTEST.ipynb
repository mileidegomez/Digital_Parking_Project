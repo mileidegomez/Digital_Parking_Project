{
 "cells": [
  {
   "cell_type": "code",
   "execution_count": 1,
   "metadata": {},
   "outputs": [],
   "source": [
    "\n",
    "import cv2\n"
   ]
  },
  {
   "cell_type": "code",
   "execution_count": 2,
   "metadata": {},
   "outputs": [],
   "source": [
    "import numpy as np\n",
    "import os"
   ]
  },
  {
   "cell_type": "code",
   "execution_count": 3,
   "metadata": {},
   "outputs": [
    {
     "name": "stderr",
     "output_type": "stream",
     "text": [
      "Using TensorFlow backend.\n"
     ]
    }
   ],
   "source": [
    "import sys\n",
    "\n",
    "sys.path.insert(0, r\"/home/pi/teste/Project_NEURAL/Mask_RCNN-master/mrcnn\")\n",
    "\n",
    "import config\n",
    "import utils\n",
    "\n",
    "from model2 import MaskRCNN\n",
    "\n",
    "from pathlib import Path\n",
    "\n",
    "sys.path.append('/usr/local/lib/python3.7/dist-packages')\n",
    "import nest_asyncio\n",
    "nest_asyncio.apply()"
   ]
  },
  {
   "cell_type": "code",
   "execution_count": 4,
   "metadata": {},
   "outputs": [],
   "source": [
    "class MaskRCNNConfig(config.Config):\n",
    "    NAME = \"coco_pretrained_model_config\"\n",
    "    IMAGES_PER_GPU = 1\n",
    "    GPU_COUNT = 1\n",
    "    NUM_CLASSES = 1 + 80  # COCO dataset has 80 classes + one background class\n",
    "    DETECTION_MIN_CONFIDENCE = 0.6\n"
   ]
  },
  {
   "cell_type": "code",
   "execution_count": 5,
   "metadata": {},
   "outputs": [],
   "source": [
    "def get_car_boxes(boxes, class_ids):\n",
    "    car_boxes = []\n",
    "\n",
    "    for i, box in enumerate(boxes):\n",
    "        # If the detected object isn't a car / truck, skip it\n",
    "        if class_ids[i] in [3, 8, 6]:\n",
    "            car_boxes.append(box)\n",
    "\n",
    "    return np.array(car_boxes)"
   ]
  },
  {
   "cell_type": "code",
   "execution_count": 6,
   "metadata": {},
   "outputs": [],
   "source": [
    "# Root directory of the project\n",
    "ROOT_DIR = Path(\"/home/pi/teste/Project_NEURAL\")\n"
   ]
  },
  {
   "cell_type": "code",
   "execution_count": 7,
   "metadata": {},
   "outputs": [],
   "source": [
    "# Directory to save logs and trained model\n",
    "MODEL_DIR = os.path.join(ROOT_DIR, \"logs\")\n",
    "\n",
    "# Local path to trained weights file\n",
    "COCO_MODEL_PATH = os.path.join(ROOT_DIR, \"mask_rcnn_coco.h5\")\n",
    "\n",
    "# Download COCO trained weights from Releases if needed\n",
    "if not os.path.exists(COCO_MODEL_PATH):\n",
    "    utils.download_trained_weights(COCO_MODEL_PATH)\n",
    "\n",
    "# Directory of images to run detection on\n",
    "IMAGE_DIR = os.path.join(ROOT_DIR, \"images\")"
   ]
  },
  {
   "cell_type": "code",
   "execution_count": 8,
   "metadata": {},
   "outputs": [
    {
     "name": "stdout",
     "output_type": "stream",
     "text": [
      "WARNING:tensorflow:From /home/pi/teste/lib/python3.7/site-packages/tensorflow_core/python/ops/resource_variable_ops.py:1630: calling BaseResourceVariable.__init__ (from tensorflow.python.ops.resource_variable_ops) with constraint is deprecated and will be removed in a future version.\n",
      "Instructions for updating:\n",
      "If using Keras pass *_constraint arguments to layers.\n",
      "WARNING:tensorflow:From /home/pi/teste/lib/python3.7/site-packages/keras/backend/tensorflow_backend.py:4070: The name tf.nn.max_pool is deprecated. Please use tf.nn.max_pool2d instead.\n",
      "\n",
      "WARNING:tensorflow:From /home/pi/teste/Project_NEURAL/Mask_RCNN-master/mrcnn/model2.py:424: calling crop_and_resize_v1 (from tensorflow.python.ops.image_ops_impl) with box_ind is deprecated and will be removed in a future version.\n",
      "Instructions for updating:\n",
      "box_ind is deprecated, use box_indices instead\n"
     ]
    }
   ],
   "source": [
    "# Create a Mask-RCNN model in inference mode\n",
    "model = MaskRCNN(mode=\"inference\", model_dir=MODEL_DIR, config=MaskRCNNConfig())"
   ]
  },
  {
   "cell_type": "code",
   "execution_count": 9,
   "metadata": {},
   "outputs": [],
   "source": [
    "# Load pre-trained model\n",
    "model.load_weights(COCO_MODEL_PATH, by_name=True)"
   ]
  },
  {
   "cell_type": "code",
   "execution_count": 10,
   "metadata": {},
   "outputs": [],
   "source": [
    "# Location of parking spaces\n",
    "parked_car_boxes = None"
   ]
  },
  {
   "cell_type": "code",
   "execution_count": null,
   "metadata": {},
   "outputs": [
    {
     "name": "stdout",
     "output_type": "stream",
     "text": [
      "WARNING:tensorflow:From /home/pi/teste/lib/python3.7/site-packages/keras/backend/tensorflow_backend.py:422: The name tf.global_variables is deprecated. Please use tf.compat.v1.global_variables instead.\n",
      "\n",
      "Cars found in frame of video:\n",
      "Carros:  [ 60   1 144  82]\n",
      "Carros:  [ 68 125 148 191]\n",
      "Carros:  [ 72 374 158 439]\n",
      "Carros:  [ 72 263 158 322]\n",
      "Sao Iguais!\n",
      "Cars found in frame of video:\n",
      "Carros:  [ 61   0 144  83]\n",
      "Carros:  [ 71 124 151 190]\n",
      "Carros:  [ 73 264 159 322]\n",
      "Carros:  [ 75 374 159 440]\n",
      "Sao Iguais!\n",
      "Cars found in frame of video:\n",
      "Carros:  [ 73 265 158 322]\n",
      "0\n",
      "Sending Message: {\"A-1\": \"0\", \"A-2\": \"0\", \"A-3\": \"1\", \"A-4\": \"0\", \"FORA\": \"0\"}\n",
      "Cars found in frame of video:\n",
      "Carros:  [ 74 264 159 322]\n",
      "Sao Iguais!\n",
      "Cars found in frame of video:\n",
      "Carros:  [ 72 264 162 322]\n",
      "Sao Iguais!\n",
      "Cars found in frame of video:\n",
      "Carros:  [182 379 246 527]\n",
      "Carros:  [ 73 126 157 202]\n",
      "Carros:  [ 72 264 162 322]\n",
      "1\n",
      "Sending Message: {\"A-1\": \"1\", \"A-2\": \"1\", \"A-3\": \"1\", \"A-4\": \"0\", \"FORA\": \"1\"}\n",
      "Cars found in frame of video:\n",
      "Carros:  [182 379 247 527]\n",
      "Carros:  [ 75 265 159 322]\n",
      "Carros:  [ 73 126 158 201]\n",
      "Sao Iguais!\n",
      "Cars found in frame of video:\n",
      "Carros:  [181 382 247 527]\n",
      "Carros:  [ 75 265 159 323]\n",
      "Carros:  [ 74 127 158 202]\n",
      "Sao Iguais!\n",
      "Cars found in frame of video:\n",
      "Carros:  [182 379 246 527]\n",
      "Carros:  [ 75 127 158 201]\n",
      "Carros:  [ 75 265 159 322]\n",
      "Sao Iguais!\n",
      "Cars found in frame of video:\n",
      "Carros:  [ 65   0 151  87]\n",
      "Carros:  [ 67 130 158 198]\n",
      "Carros:  [ 91 373 172 438]\n",
      "Carros:  [ 74 264 159 323]\n",
      "1\n",
      "Sending Message: {\"A-1\": \"1\", \"A-2\": \"1\", \"A-3\": \"1\", \"A-4\": \"1\", \"FORA\": \"0\"}\n",
      "Cars found in frame of video:\n",
      "Carros:  [ 65   0 151  87]\n",
      "Carros:  [ 67 130 158 198]\n",
      "Carros:  [ 91 373 172 438]\n",
      "Carros:  [ 74 265 159 323]\n",
      "Sao Iguais!\n",
      "Cars found in frame of video:\n",
      "0\n",
      "Sending Message: {\"A-1\": \"0\", \"A-2\": \"0\", \"A-3\": \"0\", \"A-4\": \"0\", \"FORA\": \"0\"}\n",
      "Cars found in frame of video:\n",
      "Sao Iguais!\n",
      "Cars found in frame of video:\n",
      "Sao Iguais!\n",
      "Cars found in frame of video:\n",
      "Sao Iguais!\n"
     ]
    }
   ],
   "source": [
    "# Loop over each frame of video\n",
    "while 1:\n",
    "    video_capture = cv2.VideoCapture(0)\n",
    "    ret, frame = video_capture.read()\n",
    "    cv2.imwrite(\"bobo.jpg\", frame)\n",
    "    if not 9:\n",
    "        break\n",
    "\n",
    "    # Convert the image from BGR color (which OpenCV uses) to RGB color\n",
    "    rgb_image = frame[:, :, ::-1]\n",
    "    \n",
    "    # Run the image through the Mask R-CNN model to get results.\n",
    "    results = model.detect([rgb_image], verbose=0)\n",
    "    # Mask R-CNN assumes we are running detection on multiple images.\n",
    "    # We only passed in one image to detect, so only grab the first result.\n",
    "    r = results[0]\n",
    "\n",
    "    # The r variable will now have the results of detection:\n",
    "    # - r['rois'] are the bounding box of each detected object\n",
    "    # - r['class_ids'] are the class id (type) of each detected object\n",
    "    # - r['scores'] are the confidence scores for each detection\n",
    "    # - r['masks'] are the object masks for each detected object (which gives you the object outline)\n",
    "\n",
    "    # Filter the results to only grab the car / truck bounding boxes\n",
    "    car_boxes = get_car_boxes(r['rois'], r['class_ids'])\n",
    "\n",
    "    print(\"Cars found in frame of video:\")\n",
    "    \n",
    "    # FLag de presença de carros fora do lugar\n",
    "    carrofora = 0\n",
    "    A_1 = 0\n",
    "    A_2 = 0\n",
    "    A_3 = 0\n",
    "    A_4 = 0\n",
    "    \n",
    "    # Draw each box on the frame\n",
    "    for box in car_boxes:\n",
    "        print(\"Carros: \", box)\n",
    "        y1, x1, y2, x2 = box\n",
    "        if (y1>60 and y1<130 and x1>=0 and x1<130 and y2>100 and y2<240 and x2>45 and x2<210):\n",
    "            #print(\"Carro no lugar A-1\")\n",
    "            A_1 = 1\n",
    "\n",
    "        if(y1>60 and y1<150 and x1>90 and x1<250 and y2>130 and y2<240 and x2>150 and x2<310):\n",
    "            #print (\"Carro no lugar A-2\")\n",
    "            A_2 = 1\n",
    "    \n",
    "        if(y1>60 and y1<160 and x1>220 and x1<355 and y2>135 and y2<240 and x2>275 and x2<425):\n",
    "            #print (\"Carro no lugar A-3\")\n",
    "            A_3 = 1\n",
    "    \n",
    "        if(y1>60 and y1<165 and x1>330 and x1<465 and y2>140 and y2<245 and x2>385 and x2<535):\n",
    "            #print (\"Carro no lugar A-4\")\n",
    "            A_4 = 1\n",
    "            \n",
    "        if (y2> 240):\n",
    "            carrofora =1\n",
    "            \n",
    "\n",
    "            \n",
    "        \n",
    "        # Draw the box\n",
    "        cv2.rectangle(frame, (x1, y1), (x2, y2), (0, 255, 0), 1)\n",
    "        \n",
    "        #Write in file compare.txt\n",
    "        \n",
    "    with open(\"compare.txt\",\"w\") as volatileFile:    \n",
    "        volatileFile.write(\"A-1 = \" + str(A_1) + \"\\nA-2 = \" + str(A_2) + \"\\nA-3 = \" + str(A_3) + \"\\nA-4 = \" + str(A_4) + \"\\nFORA = \" + str(carrofora) )\n",
    "    \n",
    "    \n",
    "    %run \"connectionAzure.py\"\n",
    "    # Show the frame of video on the screen\n",
    "    cv2.imshow('Video', frame)\n",
    "    \n",
    "    video_capture.release()\n",
    "    \n",
    "    \n",
    "    # Hit 'q' to quit\n",
    "    if cv2.waitKey(1) & 0xFF == ord('q'):\n",
    "        break\n",
    "        \n",
    "# Clean up everything when finished\n",
    "cv2.destroyAllWindows()"
   ]
  },
  {
   "cell_type": "code",
   "execution_count": null,
   "metadata": {},
   "outputs": [],
   "source": []
  },
  {
   "cell_type": "code",
   "execution_count": null,
   "metadata": {},
   "outputs": [],
   "source": []
  },
  {
   "cell_type": "code",
   "execution_count": null,
   "metadata": {},
   "outputs": [],
   "source": []
  },
  {
   "cell_type": "code",
   "execution_count": null,
   "metadata": {},
   "outputs": [],
   "source": []
  },
  {
   "cell_type": "code",
   "execution_count": null,
   "metadata": {},
   "outputs": [],
   "source": []
  },
  {
   "cell_type": "code",
   "execution_count": null,
   "metadata": {},
   "outputs": [],
   "source": []
  }
 ],
 "metadata": {
  "kernelspec": {
   "display_name": "Python 3",
   "language": "python",
   "name": "python3"
  },
  "language_info": {
   "codemirror_mode": {
    "name": "ipython",
    "version": 3
   },
   "file_extension": ".py",
   "mimetype": "text/x-python",
   "name": "python",
   "nbconvert_exporter": "python",
   "pygments_lexer": "ipython3",
   "version": "3.7.3"
  }
 },
 "nbformat": 4,
 "nbformat_minor": 2
}
